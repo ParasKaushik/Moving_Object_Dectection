{
 "cells": [
  {
   "cell_type": "code",
   "execution_count": 4,
   "id": "e31cf301",
   "metadata": {},
   "outputs": [],
   "source": [
    "import cv2"
   ]
  },
  {
   "cell_type": "code",
   "execution_count": 17,
   "id": "4e5eb235",
   "metadata": {},
   "outputs": [],
   "source": [
    "cap=cv2.VideoCapture(0)\n",
    "val,frame1=cap.read()\n",
    "val2,frame2=cap.read()\n",
    "\n",
    "while True:\n",
    "    diff=cv2.absdiff(frame1,frame2)\n",
    "    gray=cv2.cvtColor(diff,cv2.COLOR_BGR2GRAY)\n",
    "    _,thres=cv2.threshold(gray,20,255,cv2.THRESH_BINARY)\n",
    "    #contour\n",
    "    contours,_=cv2.findContours(thres,cv2.RETR_TREE,cv2.CHAIN_APPROX_NONE)\n",
    "    cv2.drawContours(frame1,contours,-1,(0,255,0),2)\n",
    "    # Showing tHe Result\n",
    "    cv2.imshow('Win',frame1)\n",
    "    frame1=frame2\n",
    "    val,frame2=cap.read()\n",
    "    if cv2.waitKey(1)&0xFF==ord('b'):\n",
    "        break\n",
    "cap.release()\n",
    "cv2.destroyAllWindows()"
   ]
  },
  {
   "cell_type": "code",
   "execution_count": null,
   "id": "f6f344a0",
   "metadata": {},
   "outputs": [],
   "source": []
  },
  {
   "cell_type": "code",
   "execution_count": null,
   "id": "2628f87d",
   "metadata": {},
   "outputs": [],
   "source": []
  }
 ],
 "metadata": {
  "kernelspec": {
   "display_name": "Python 3 (ipykernel)",
   "language": "python",
   "name": "python3"
  },
  "language_info": {
   "codemirror_mode": {
    "name": "ipython",
    "version": 3
   },
   "file_extension": ".py",
   "mimetype": "text/x-python",
   "name": "python",
   "nbconvert_exporter": "python",
   "pygments_lexer": "ipython3",
   "version": "3.9.12"
  }
 },
 "nbformat": 4,
 "nbformat_minor": 5
}
